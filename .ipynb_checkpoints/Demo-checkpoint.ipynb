{
 "cells": [
  {
   "cell_type": "code",
   "execution_count": 24,
   "id": "2c42ef1e",
   "metadata": {},
   "outputs": [],
   "source": [
    "import os, json\n",
    "import pprint\n",
    "pp = pprint.PrettyPrinter(depth=6)\n",
    "import random"
   ]
  },
  {
   "cell_type": "code",
   "execution_count": 70,
   "id": "8a955371",
   "metadata": {},
   "outputs": [],
   "source": [
    "def load_data(split):\n",
    "    data = []\n",
    "    for s in split:\n",
    "        filename = os.path.join(\"./Dataset/\", s + \".json\")\n",
    "\n",
    "        with open(filename, 'r') as f:\n",
    "            loaded_data = json.load(f)\n",
    "            data += loaded_data\n",
    "    \n",
    "    return data\n",
    "\n",
    "def demo(data):\n",
    "    random_data = random.choice(data)\n",
    "    \n",
    "    print(\"Video_URL: {}\".format(random_data[\"video_url\"]))\n",
    "    print(\"Domain: {}\".format(random_data[\"domain\"]))\n",
    "    print(\"Question: {}\".format(random_data[\"question\"]))\n",
    "    print(\"Answer 1: {}\".format(random_data[\"answer1\"]))\n",
    "    print(\"Answer 2: {}\".format(random_data[\"answer2\"]))\n",
    "    print(\"Correct Answer: {}\".format(random_data[\"correct_answer_key\"]))"
   ]
  },
  {
   "cell_type": "code",
   "execution_count": 77,
   "id": "4637ba1d",
   "metadata": {},
   "outputs": [
    {
     "name": "stdout",
     "output_type": "stream",
     "text": [
      "Number of questions for split ['train', 'val', 'test'] = 10548\n",
      "==============================================================================================================================\n",
      "Video_URL: https://oops-qa.s3.us-west-1.amazonaws.com/val/Ultimate+Parkour+Fails+Compilation+Part+2+by+FailArmy+_+_You+Are+The+King+Of+Bails,+Man._38.mp4\n",
      "Domain: Time\n",
      "Question: What if the guy built momentum up before jumping?\n",
      "Answer 1: If the guy Built up momentum before attempting to jump his odds would have been the same of clearing it.\n",
      "Answer 2: If the guy built up momentum before attempting the jump everybody gave him a greater chance of not face planting.\n",
      "Correct Answer: answer2\n"
     ]
    }
   ],
   "source": [
    "split = [\"train\", \"val\", \"test\"]\n",
    "data = load_data(split)\n",
    "print(\"Number of questions for split {} = {}\".format(split, len(data)))\n",
    "print(\"===\" * 42)\n",
    "demo(data)"
   ]
  },
  {
   "cell_type": "code",
   "execution_count": null,
   "id": "5b5c8847",
   "metadata": {},
   "outputs": [],
   "source": []
  },
  {
   "cell_type": "code",
   "execution_count": null,
   "id": "f84c1128",
   "metadata": {},
   "outputs": [],
   "source": []
  }
 ],
 "metadata": {
  "kernelspec": {
   "display_name": "Python 3 (ipykernel)",
   "language": "python",
   "name": "python3"
  },
  "language_info": {
   "codemirror_mode": {
    "name": "ipython",
    "version": 3
   },
   "file_extension": ".py",
   "mimetype": "text/x-python",
   "name": "python",
   "nbconvert_exporter": "python",
   "pygments_lexer": "ipython3",
   "version": "3.9.13"
  }
 },
 "nbformat": 4,
 "nbformat_minor": 5
}
