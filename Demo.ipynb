{
 "cells": [
  {
   "cell_type": "markdown",
   "id": "3026adf8-78e5-4b3a-9b66-785aae9a04f7",
   "metadata": {},
   "source": [
    "# ACQUIRED Dataset Demo"
   ]
  },
  {
   "cell_type": "code",
   "execution_count": null,
   "id": "2c42ef1e",
   "metadata": {},
   "outputs": [],
   "source": [
    "import os, sys, json, random\n",
    "import pprint\n",
    "pp = pprint.PrettyPrinter(depth=6)\n",
    "\n",
    "from IPython.display import HTML, IFrame\n",
    "from PIL import Image, ImageDraw, ImageFont\n",
    "from ipywidgets import Video\n",
    "\n",
    "import matplotlib.pyplot as plt\n",
    "import seaborn as sns\n",
    "sns.set()\n",
    "\n",
    "# for auto-reloading external modules\n",
    "# see http://stackoverflow.com/questions/1907993/autoreload-of-modules-in-ipython\n",
    "%load_ext autoreload\n",
    "%autoreload 2"
   ]
  },
  {
   "cell_type": "code",
   "execution_count": null,
   "id": "86f44484-7f96-471c-9254-48adf9c5e809",
   "metadata": {},
   "outputs": [],
   "source": [
    "def red_text(text):\n",
    "    return \"\\x1b[31m\" + text + \"\\x1b[0m\"\n",
    "\n",
    "def blue_text(text):\n",
    "    return \"\\x1b[94m\" + text + \"\\x1b[0m\"\n",
    "\n",
    "def green_text(text):\n",
    "    return \"\\x1b[32m\" + text + \"\\x1b[0m\"\n",
    "\n",
    "def magenta_text(text):\n",
    "    return \"\\x1b[35m\" + text + \"\\x1b[0m\"\n",
    "\n",
    "def yellow_text(text):\n",
    "    return \"\\x1b[93m\" + text + \"\\x1b[0m\"\n",
    "\n",
    "def bold_text(text):\n",
    "    return \"\\x1b[1;128m\" + text + \"\\x1b[0m\""
   ]
  },
  {
   "cell_type": "markdown",
   "id": "b674e32e-701e-4383-a29f-ef0021df4024",
   "metadata": {},
   "source": [
    "## Essential Functions"
   ]
  },
  {
   "cell_type": "code",
   "execution_count": null,
   "id": "8a955371",
   "metadata": {},
   "outputs": [],
   "source": [
    "def load_data(splits, dataset_root=\"./Dataset\"):\n",
    "    data = []\n",
    "    for split in splits:\n",
    "        filename = os.path.join(dataset_root, split+\".json\")\n",
    "\n",
    "        with open(filename, 'r') as f:\n",
    "            loaded_data = json.load(f)\n",
    "            data += loaded_data\n",
    "    \n",
    "    return data\n",
    "\n",
    "\n",
    "def sample_one_datapoint(data, video_source=\"local\", local_video_root=\"acquired_dataset\"):\n",
    "    assert video_source in [\"local\", \"url\"]\n",
    "    \n",
    "    random_data = random.choice(data)\n",
    "\n",
    "    video_id = random_data[\"video_id\"]\n",
    "    video_from = video_id.split(\"-\")[0].split(\":\")[0]\n",
    "    if video_from == \"oopsqa\":\n",
    "        video_from = \"Oops!\"\n",
    "    else:\n",
    "        video_from = \"Ego4D\"\n",
    "    video_path = os.path.join(local_video_root, random_data[\"video_path\"])\n",
    "    \n",
    "    print(\"Video URL: {}\".format(random_data[\"video_url\"]))\n",
    "    print(\"Video ID:  {}\".format(random_data[\"video_id\"]))\n",
    "    print(\"Domain:    {}\".format(random_data[\"domain\"]))\n",
    "    print(\"Source:    {}\".format(video_from))\n",
    "    print(\"---\"*42)\n",
    "    print(\"{} {}\".format(bold_text(blue_text(\"Question:\")), blue_text(random_data[\"question\"])))\n",
    "    if random_data[\"correct_answer_key\"] == \"answer1\":\n",
    "        answer1_color_func = green_text\n",
    "        answer2_color_func = red_text\n",
    "    else:\n",
    "        answer1_color_func = red_text\n",
    "        answer2_color_func = green_text\n",
    "    print(\"{} {}\".format(bold_text(answer1_color_func(\"Answer 1:\")), answer1_color_func(random_data[\"answer1\"])))\n",
    "    print(\"{} {}\".format(bold_text(answer2_color_func(\"Answer 2:\")), answer2_color_func(random_data[\"answer1\"])))\n",
    "    print(\"Correct Answer: {}\".format(random_data[\"correct_answer_key\"]))\n",
    "\n",
    "    if video_source == \"url\":\n",
    "        video_src = '<iframe width=\"560\" height=\"315\" src=\"{}\" frameborder=\"0\" allowfullscreen></iframe>'.format(random_data[\"video_url\"])\n",
    "        display(HTML(video_src))\n",
    "    else:\n",
    "        display(Video.from_file(\n",
    "            video_path, width=560, height=315,\n",
    "        ))\n",
    "\n",
    "    return"
   ]
  },
  {
   "cell_type": "markdown",
   "id": "d3063797-26e1-49e5-b595-24860fe1f3d4",
   "metadata": {},
   "source": [
    "## Show One Random Sample"
   ]
  },
  {
   "cell_type": "markdown",
   "id": "6e629103-917a-4fdd-b034-c9f8022160de",
   "metadata": {},
   "source": [
    "The video source can be from `local` where you have already downloaded the videos following the README.md, and/or via `url` for quick visualization before fully downloading the whole video set."
   ]
  },
  {
   "cell_type": "code",
   "execution_count": null,
   "id": "4637ba1d",
   "metadata": {},
   "outputs": [],
   "source": [
    "splits = [\"train\", \"val\", \"test\"]\n",
    "video_source = \"local\"  # \"url\"\n",
    "\n",
    "data = load_data(\n",
    "    splits,\n",
    "    dataset_root=\"./Dataset\",\n",
    ")\n",
    "\n",
    "print(\"Number of questions for splits in {} = {}\".format(splits, len(data)))\n",
    "print(\"===\" * 42)\n",
    "sample_one_datapoint(\n",
    "    data,\n",
    "    video_source=video_source,\n",
    "    local_video_root=\"acquired_dataset\",\n",
    ")"
   ]
  },
  {
   "cell_type": "markdown",
   "id": "372aa210-6a8e-47c9-b189-82fd7b741047",
   "metadata": {},
   "source": [
    "# End of Demo"
   ]
  }
 ],
 "metadata": {
  "kernelspec": {
   "display_name": "Python 3 (ipykernel)",
   "language": "python",
   "name": "python3"
  },
  "language_info": {
   "codemirror_mode": {
    "name": "ipython",
    "version": 3
   },
   "file_extension": ".py",
   "mimetype": "text/x-python",
   "name": "python",
   "nbconvert_exporter": "python",
   "pygments_lexer": "ipython3",
   "version": "3.9.12"
  }
 },
 "nbformat": 4,
 "nbformat_minor": 5
}
